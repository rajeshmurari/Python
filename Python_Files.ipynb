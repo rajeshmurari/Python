{
 "cells": [
  {
   "cell_type": "markdown",
   "metadata": {},
   "source": [
    "### Files in Python\n",
    "* Step-1: identify file and open\n",
    "* Step-2: do the operations we want\n",
    "* Step-3: close the file which opened"
   ]
  },
  {
   "cell_type": "markdown",
   "metadata": {},
   "source": [
    "## read the data from 'book.txt'"
   ]
  },
  {
   "cell_type": "code",
   "execution_count": 1,
   "metadata": {},
   "outputs": [
    {
     "name": "stdout",
     "output_type": "stream",
     "text": [
      "Line1\n",
      "Line2\n",
      "Line3\n",
      "Line4\n",
      "\n"
     ]
    }
   ],
   "source": [
    "fh = open('book.txt','r')  # 'r' - means read mode\n",
    "data = fh.read()           # read data from file\n",
    "print(data)\n",
    "fh.close()                 # close file"
   ]
  },
  {
   "cell_type": "code",
   "execution_count": 2,
   "metadata": {},
   "outputs": [
    {
     "name": "stdout",
     "output_type": "stream",
     "text": [
      "Line1,Line2,Line3\n"
     ]
    }
   ],
   "source": [
    "fh = open('book1.txt','r')  # 'r' - means read mode\n",
    "data = fh.read()           # read data from file\n",
    "print(data)\n",
    "fh.close()                 # close file"
   ]
  },
  {
   "cell_type": "code",
   "execution_count": 4,
   "metadata": {},
   "outputs": [
    {
     "ename": "FileNotFoundError",
     "evalue": "[Errno 2] No such file or directory: 'book0.txt'",
     "output_type": "error",
     "traceback": [
      "\u001b[1;31m---------------------------------------------------------------------------\u001b[0m",
      "\u001b[1;31mFileNotFoundError\u001b[0m                         Traceback (most recent call last)",
      "\u001b[1;32m<ipython-input-4-9bb61fd0f349>\u001b[0m in \u001b[0;36m<module>\u001b[1;34m\u001b[0m\n\u001b[0;32m      1\u001b[0m \u001b[1;31m## FileNotFoundError\u001b[0m\u001b[1;33m\u001b[0m\u001b[1;33m\u001b[0m\u001b[1;33m\u001b[0m\u001b[0m\n\u001b[1;32m----> 2\u001b[1;33m \u001b[0mfh\u001b[0m \u001b[1;33m=\u001b[0m \u001b[0mopen\u001b[0m\u001b[1;33m(\u001b[0m\u001b[1;34m'book0.txt'\u001b[0m\u001b[1;33m,\u001b[0m\u001b[1;34m'r'\u001b[0m\u001b[1;33m)\u001b[0m  \u001b[1;31m# 'r' - means read mode\u001b[0m\u001b[1;33m\u001b[0m\u001b[1;33m\u001b[0m\u001b[0m\n\u001b[0m\u001b[0;32m      3\u001b[0m \u001b[0mdata\u001b[0m \u001b[1;33m=\u001b[0m \u001b[0mfh\u001b[0m\u001b[1;33m.\u001b[0m\u001b[0mread\u001b[0m\u001b[1;33m(\u001b[0m\u001b[1;33m)\u001b[0m           \u001b[1;31m# read data from file\u001b[0m\u001b[1;33m\u001b[0m\u001b[1;33m\u001b[0m\u001b[0m\n\u001b[0;32m      4\u001b[0m \u001b[0mprint\u001b[0m\u001b[1;33m(\u001b[0m\u001b[0mdata\u001b[0m\u001b[1;33m)\u001b[0m\u001b[1;33m\u001b[0m\u001b[1;33m\u001b[0m\u001b[0m\n\u001b[0;32m      5\u001b[0m \u001b[0mfh\u001b[0m\u001b[1;33m.\u001b[0m\u001b[0mclose\u001b[0m\u001b[1;33m(\u001b[0m\u001b[1;33m)\u001b[0m                 \u001b[1;31m# close file\u001b[0m\u001b[1;33m\u001b[0m\u001b[1;33m\u001b[0m\u001b[0m\n",
      "\u001b[1;31mFileNotFoundError\u001b[0m: [Errno 2] No such file or directory: 'book0.txt'"
     ]
    }
   ],
   "source": [
    "## FileNotFoundError\n",
    "fh = open('book0.txt','r')  # 'r' - means read mode\n",
    "data = fh.read()           # read data from file\n",
    "print(data)\n",
    "fh.close()                 # close file"
   ]
  },
  {
   "cell_type": "code",
   "execution_count": 5,
   "metadata": {},
   "outputs": [
    {
     "name": "stdout",
     "output_type": "stream",
     "text": [
      "Line1\n",
      "\n",
      "Line2\n",
      "\n",
      "Line3\n",
      "\n",
      "Line4\n",
      "\n"
     ]
    }
   ],
   "source": [
    "## Read data using 'for loop'\n",
    "fh = open('book.txt','r')  # 'r' - means read mode\n",
    "for ii in fh:\n",
    "    print(ii)\n",
    "fh.close()                 # close file"
   ]
  },
  {
   "cell_type": "code",
   "execution_count": 6,
   "metadata": {},
   "outputs": [
    {
     "name": "stdout",
     "output_type": "stream",
     "text": [
      "Line1\n",
      "Line2\n",
      "Line3\n",
      "Line4\n"
     ]
    }
   ],
   "source": [
    "## Read data using 'for loop'\n",
    "fh = open('book.txt','r')  # 'r' - means read mode\n",
    "for ii in fh:\n",
    "    print(ii,end='')       # to supress empty line feed\n",
    "fh.close()                 # close file"
   ]
  },
  {
   "cell_type": "markdown",
   "metadata": {},
   "source": [
    "## Write data into 'notes.txt'"
   ]
  },
  {
   "cell_type": "code",
   "execution_count": 7,
   "metadata": {},
   "outputs": [],
   "source": [
    "fh = open('notes.txt','w')  # 'w' - means write mode\n",
    "fh.write('Hello Angel')\n",
    "fh.close()                 # close file"
   ]
  },
  {
   "cell_type": "code",
   "execution_count": 8,
   "metadata": {},
   "outputs": [
    {
     "name": "stdout",
     "output_type": "stream",
     "text": [
      "Hello Angel\n"
     ]
    }
   ],
   "source": [
    "fh = open('notes.txt','r')  # 'r' - means read mode\n",
    "data = fh.read()           # read data from file\n",
    "print(data)\n",
    "fh.close()                 # close file"
   ]
  },
  {
   "cell_type": "code",
   "execution_count": 10,
   "metadata": {},
   "outputs": [
    {
     "name": "stdout",
     "output_type": "stream",
     "text": [
      "Hello Johua\n"
     ]
    }
   ],
   "source": [
    "fh = open('notes.txt','w')  # 'w' - means write mode\n",
    "fh.write('Hello Johua')\n",
    "fh.close()                 # close file\n",
    "fh = open('notes.txt','r')  # 'r' - means read mode\n",
    "data = fh.read()           # read data from file\n",
    "print(data)\n",
    "fh.close()                 # close file"
   ]
  },
  {
   "cell_type": "markdown",
   "metadata": {},
   "source": [
    "* create file with the following data and copy data from file 'student.txt' to 'report.txt'\n",
    "* name      english    maths\n",
    "* rajesh    100        50\n",
    "* murari     50        100\n",
    "* josh      100        100"
   ]
  },
  {
   "cell_type": "code",
   "execution_count": 22,
   "metadata": {},
   "outputs": [],
   "source": [
    "fh_r = open('student.txt','r')  # 'r' - means read mode\n",
    "fh_w = open('reports.txt','w')  # 'w' - means write mode\n",
    "data = fh_r.read()              # read data from file\n",
    "fh_w.write(data)\n",
    "fh_r.close()\n",
    "fh_w.close()                    # close file"
   ]
  },
  {
   "cell_type": "code",
   "execution_count": 23,
   "metadata": {},
   "outputs": [
    {
     "name": "stdout",
     "output_type": "stream",
     "text": [
      "name      english    maths\n",
      "rajesh    100        50\n",
      "murari     50        100\n",
      "josh      100        100\n"
     ]
    }
   ],
   "source": [
    "fh2 = open('reports.txt','r') \n",
    "data2 = fh2.read()\n",
    "print(data2)\n",
    "fh2.close() "
   ]
  },
  {
   "cell_type": "markdown",
   "metadata": {},
   "source": [
    "##### *** The above write 'w' command over-writes contents in the file ***\n",
    "* Append Mode"
   ]
  },
  {
   "cell_type": "code",
   "execution_count": 27,
   "metadata": {},
   "outputs": [],
   "source": [
    "fh_a = open('reports.txt','a')  # 'a' - means append mode\n",
    "fh_a.write('angel 100 100')\n",
    "fh_a.close()                    # close file"
   ]
  },
  {
   "cell_type": "code",
   "execution_count": 29,
   "metadata": {},
   "outputs": [
    {
     "name": "stdout",
     "output_type": "stream",
     "text": [
      "\n"
     ]
    }
   ],
   "source": [
    "fh = open('reports.txt','r')\n",
    "data = fh.read()   # reads till the end of data and cursor will be at the end\n",
    "data = fh.read()   # display no data as cursor at the end\n",
    "print(data)\n",
    "fh_a.close()                "
   ]
  },
  {
   "cell_type": "code",
   "execution_count": 35,
   "metadata": {},
   "outputs": [
    {
     "name": "stdout",
     "output_type": "stream",
     "text": [
      "0\n",
      "100\n",
      "100\n"
     ]
    }
   ],
   "source": [
    "fh = open('student.txt','r')\n",
    "print(fh.tell())    # to find the position of the cursor\n",
    "data = fh.read()   \n",
    "print(fh.tell())\n",
    "data = fh.read()   \n",
    "print(fh.tell())\n",
    "fh_a.close()           "
   ]
  },
  {
   "cell_type": "code",
   "execution_count": 43,
   "metadata": {},
   "outputs": [
    {
     "name": "stdout",
     "output_type": "stream",
     "text": [
      "0\n",
      "50\n",
      "\n",
      "murari     50        100\n",
      "josh      100        100\n"
     ]
    }
   ],
   "source": [
    "## change the position of the cursor\n",
    "fh = open('student.txt','r')\n",
    "print(fh.tell())    # to find the position of the cursor\n",
    "data = fh.read() \n",
    "fh.seek(50)\n",
    "print(fh.tell())\n",
    "data = fh.read()\n",
    "print(data)\n",
    "fh_a.close()    "
   ]
  },
  {
   "cell_type": "code",
   "execution_count": 51,
   "metadata": {},
   "outputs": [
    {
     "name": "stdout",
     "output_type": "stream",
     "text": [
      "total no.of lines:  4\n"
     ]
    }
   ],
   "source": [
    "### count number of lines\n",
    "count = 0\n",
    "fh = open('book.txt','r')\n",
    "for ii in fh:\n",
    "    count += 1\n",
    "print('total no.of lines: ',count)\n",
    "fh.close()"
   ]
  },
  {
   "cell_type": "code",
   "execution_count": 52,
   "metadata": {},
   "outputs": [
    {
     "name": "stdout",
     "output_type": "stream",
     "text": [
      "total no.of characters:  23\n"
     ]
    }
   ],
   "source": [
    "### count number of characters\n",
    "count = 0\n",
    "fh = open('book.txt','r')\n",
    "for line in fh:\n",
    "    for char in line:\n",
    "        count += 1\n",
    "print('total no.of characters: ',count)\n",
    "fh.close()"
   ]
  },
  {
   "cell_type": "code",
   "execution_count": 50,
   "metadata": {},
   "outputs": [
    {
     "name": "stdout",
     "output_type": "stream",
     "text": [
      "Line1\n",
      "\n"
     ]
    }
   ],
   "source": [
    "fh = open('book.txt','r')\n",
    "line = fh.readline()\n",
    "print(line)\n",
    "fh.close()"
   ]
  },
  {
   "cell_type": "code",
   "execution_count": 53,
   "metadata": {},
   "outputs": [
    {
     "name": "stdout",
     "output_type": "stream",
     "text": [
      "L\n"
     ]
    }
   ],
   "source": [
    "fh = open('book.txt','r')\n",
    "line = fh.readline(1)    # reads first character of first line\n",
    "print(line)\n",
    "fh.close()"
   ]
  },
  {
   "cell_type": "code",
   "execution_count": 54,
   "metadata": {},
   "outputs": [
    {
     "name": "stdout",
     "output_type": "stream",
     "text": [
      "Line3\n",
      "\n"
     ]
    }
   ],
   "source": [
    "fh = open('book.txt','r')\n",
    "line = fh.readline()    \n",
    "line1 = fh.readline()   \n",
    "line2 = fh.readline()    \n",
    "print(line2)\n",
    "fh.close()"
   ]
  },
  {
   "cell_type": "code",
   "execution_count": 57,
   "metadata": {},
   "outputs": [
    {
     "name": "stdout",
     "output_type": "stream",
     "text": [
      "['Line1\\n', 'Line2\\n', 'Line3\\n', 'Line4']\n"
     ]
    }
   ],
   "source": [
    "fh = open('book.txt','r')\n",
    "lines = fh.readlines()    # reads first all lines\n",
    "print(lines)\n",
    "fh.close()"
   ]
  },
  {
   "cell_type": "code",
   "execution_count": 8,
   "metadata": {},
   "outputs": [
    {
     "name": "stdout",
     "output_type": "stream",
     "text": [
      "['Line1\\n', 'Newdata\\n', 'Line2\\n', 'Line3\\n', 'Line4']\n"
     ]
    }
   ],
   "source": [
    "fh = open('book.txt','r')\n",
    "lines = fh.readlines()    # reads first all lines\n",
    "print(lines)\n",
    "fh.close()\n",
    "fh = open('book.txt','w')\n",
    "lines.insert(1,'Newdata\\n')\n",
    "for line in lines:\n",
    "    fh.write(line)\n",
    "fh.close()"
   ]
  },
  {
   "cell_type": "markdown",
   "metadata": {},
   "source": [
    "#### Generate the student report from 'student.txt' to 'reports.txt'\n",
    " name      english    maths total <br>\n",
    " rajesh    100        50     150 \n",
    " murari     50        100    150 \n",
    " josh      100        100    200 "
   ]
  },
  {
   "cell_type": "code",
   "execution_count": 36,
   "metadata": {},
   "outputs": [
    {
     "name": "stdout",
     "output_type": "stream",
     "text": [
      "['rajesh', '100', '50']\n",
      "['murari', '50', '100']\n",
      "['josh', '100', '100']\n"
     ]
    }
   ],
   "source": [
    "fh = open('student.txt','r')\n",
    "fh1 = open('reports.txt','w')\n",
    "#data = fh.read()\n",
    "count = 0\n",
    "for ii in fh:\n",
    "    count = count + 1\n",
    "    if count == 1:\n",
    "    #    print(ii.rstrip()+'  Total')\n",
    "        fh1.write(ii.rstrip()+'  Total\\n')\n",
    "    else:\n",
    "        mylist = ii.split()\n",
    "        print(mylist)\n",
    "        fh1.write(ii)\n",
    "    #lines = fh.readlines(ii)\n",
    "#print(lines)\n",
    "fh.close()\n",
    "fh1.close()"
   ]
  },
  {
   "cell_type": "code",
   "execution_count": 48,
   "metadata": {},
   "outputs": [
    {
     "name": "stdout",
     "output_type": "stream",
     "text": [
      "10050\n",
      "50100\n",
      "100100\n"
     ]
    }
   ],
   "source": [
    "fh = open('student.txt','r')\n",
    "fh1 = open('reports.txt','w')\n",
    "#data = fh.read()\n",
    "count = 0\n",
    "for ii in fh:\n",
    "    count = count + 1\n",
    "    if count == 1:\n",
    "    #    print(ii.rstrip()+'  Total')\n",
    "        fh1.write(ii.rstrip()+'  Total\\n')\n",
    "    else:\n",
    "        mylist = ii.split()\n",
    "        marks = mylist[1:]\n",
    "        print(marks[0]+marks[1])\n",
    "        fh1.write(ii)\n",
    "    #lines = fh.readlines(ii)\n",
    "#print(lines)\n",
    "fh.close()\n",
    "fh1.close()"
   ]
  },
  {
   "cell_type": "code",
   "execution_count": 54,
   "metadata": {},
   "outputs": [],
   "source": [
    "fh = open('student.txt','r')\n",
    "fh1 = open('reports.txt','w')\n",
    "count = 0\n",
    "for ii in fh:\n",
    "    count = count + 1\n",
    "    if count == 1:\n",
    "        fh1.write(ii.rstrip()+'  Total\\n')\n",
    "    else:\n",
    "        mylist = ii.split()\n",
    "        marks = mylist[1:]\n",
    "        marks_list = []\n",
    "        for each in marks:\n",
    "            marks_list.append(int(each))\n",
    "        total = sum(marks_list)\n",
    "        fh1.write(ii.rstrip() +'      '+ str(total) +'\\n')\n",
    "    #lines = fh.readlines(ii)\n",
    "#print(lines)\n",
    "fh.close()\n",
    "fh1.close()"
   ]
  },
  {
   "cell_type": "markdown",
   "metadata": {},
   "source": [
    "#### generate a report of invalid mobile number from file 'address.txt'"
   ]
  },
  {
   "cell_type": "code",
   "execution_count": 56,
   "metadata": {},
   "outputs": [],
   "source": [
    "import re\n",
    "fh = open('address.txt','r')\n",
    "fh1 = open('invalid.txt','w')\n",
    "count = 0\n",
    "for line in fh:\n",
    "    count = count + 1\n",
    "    if count == 1:\n",
    "        fh1.write(line)\n",
    "    else:\n",
    "        mylist = line.split()\n",
    "        name = mylist[0]\n",
    "        mobile = mylist[1]\n",
    "        if not re.search('^[6-9]\\d{9}$',mobile):\n",
    "            fh1.write(line)\n",
    "fh.close()\n",
    "fh1.close()"
   ]
  },
  {
   "cell_type": "code",
   "execution_count": 59,
   "metadata": {},
   "outputs": [
    {
     "data": {
      "text/plain": [
       "[100, 50, 30]"
      ]
     },
     "execution_count": 59,
     "metadata": {},
     "output_type": "execute_result"
    }
   ],
   "source": [
    "### maping manually \n",
    "marks = ['100','50','30']\n",
    "marks_list = []\n",
    "for each in marks:\n",
    "    marks_list.append(int(each))\n",
    "marks_list"
   ]
  },
  {
   "cell_type": "markdown",
   "metadata": {},
   "source": [
    "### map(function, collection_item)"
   ]
  },
  {
   "cell_type": "code",
   "execution_count": 57,
   "metadata": {},
   "outputs": [
    {
     "data": {
      "text/plain": [
       "<map at 0x1ac6c8da9b0>"
      ]
     },
     "execution_count": 57,
     "metadata": {},
     "output_type": "execute_result"
    }
   ],
   "source": [
    "marks = ['100','50','30']\n",
    "map(int,marks)   # returns address"
   ]
  },
  {
   "cell_type": "code",
   "execution_count": 58,
   "metadata": {},
   "outputs": [
    {
     "data": {
      "text/plain": [
       "[100, 50, 30]"
      ]
     },
     "execution_count": 58,
     "metadata": {},
     "output_type": "execute_result"
    }
   ],
   "source": [
    "marks = ['100','50','30']\n",
    "list(map(int,marks))  # returns list"
   ]
  },
  {
   "cell_type": "code",
   "execution_count": 61,
   "metadata": {},
   "outputs": [
    {
     "data": {
      "text/plain": [
       "['rajesh', 'joshua', 'angel']"
      ]
     },
     "execution_count": 61,
     "metadata": {},
     "output_type": "execute_result"
    }
   ],
   "source": [
    "### print first name of each string in list\n",
    "names = ['rajesh murari','joshua murari','angel']\n",
    "list(map(lambda x:x.split()[0],names))"
   ]
  },
  {
   "cell_type": "markdown",
   "metadata": {},
   "source": [
    "### filter(function,collection_item)"
   ]
  },
  {
   "cell_type": "code",
   "execution_count": 63,
   "metadata": {},
   "outputs": [
    {
     "data": {
      "text/plain": [
       "[100, 50, 100]"
      ]
     },
     "execution_count": 63,
     "metadata": {},
     "output_type": "execute_result"
    }
   ],
   "source": [
    "marks = [100,50,30,100] # filter numbers greater than or equal to 50\n",
    "list(filter(lambda x:x>=50,marks))"
   ]
  },
  {
   "cell_type": "code",
   "execution_count": 66,
   "metadata": {},
   "outputs": [
    {
     "data": {
      "text/plain": [
       "[100, 50, 30, 100]"
      ]
     },
     "execution_count": 66,
     "metadata": {},
     "output_type": "execute_result"
    }
   ],
   "source": [
    "marks = [100,50,30,100,0] # filter numbers greater than or equal to 50\n",
    "list(filter(None,marks))"
   ]
  },
  {
   "cell_type": "code",
   "execution_count": 67,
   "metadata": {},
   "outputs": [
    {
     "data": {
      "text/plain": [
       "[True, True, False, True, False, False]"
      ]
     },
     "execution_count": 67,
     "metadata": {},
     "output_type": "execute_result"
    }
   ],
   "source": [
    "marks = [100,50,30,100,0,1] # map function \n",
    "list(map(lambda x:x>=50,marks))"
   ]
  },
  {
   "cell_type": "code",
   "execution_count": 68,
   "metadata": {},
   "outputs": [
    {
     "data": {
      "text/plain": [
       "[200, 100, 60, 200, 0, 2]"
      ]
     },
     "execution_count": 68,
     "metadata": {},
     "output_type": "execute_result"
    }
   ],
   "source": [
    "marks = [100,50,30,100,0,1] # filter numbers greater than or equal to 50\n",
    "list(map(lambda x:x*2,marks))"
   ]
  },
  {
   "cell_type": "code",
   "execution_count": 69,
   "metadata": {},
   "outputs": [],
   "source": [
    "name = 'python program'\n",
    "# char = ['p','y','t','h'....]\n"
   ]
  },
  {
   "cell_type": "code",
   "execution_count": 70,
   "metadata": {},
   "outputs": [],
   "source": [
    "### x^2+y^2 == z^2\n",
    "## result = [[3,4,5],[4,3,5],[6,8,10]]"
   ]
  },
  {
   "cell_type": "markdown",
   "metadata": {},
   "source": [
    "### list comprehension\n",
    "* syntax: [expression_item for item in collection_item]\n"
   ]
  },
  {
   "cell_type": "code",
   "execution_count": 71,
   "metadata": {},
   "outputs": [
    {
     "data": {
      "text/plain": [
       "[1, 1, 1, 1, 1, 1, 1, 1, 1, 1]"
      ]
     },
     "execution_count": 71,
     "metadata": {},
     "output_type": "execute_result"
    }
   ],
   "source": [
    "[1 for i in range(10)]"
   ]
  },
  {
   "cell_type": "code",
   "execution_count": 76,
   "metadata": {},
   "outputs": [
    {
     "name": "stdout",
     "output_type": "stream",
     "text": [
      "0\n",
      "1\n",
      "2\n",
      "3\n",
      "4\n",
      "5\n",
      "6\n",
      "7\n",
      "8\n",
      "9\n"
     ]
    }
   ],
   "source": [
    "for i in range(10):\n",
    "    print(i)"
   ]
  },
  {
   "cell_type": "code",
   "execution_count": 73,
   "metadata": {},
   "outputs": [
    {
     "data": {
      "text/plain": [
       "[0, 1, 2, 3, 4, 5, 6, 7, 8, 9]"
      ]
     },
     "execution_count": 73,
     "metadata": {},
     "output_type": "execute_result"
    }
   ],
   "source": [
    "[i for i in range(10)]"
   ]
  },
  {
   "cell_type": "code",
   "execution_count": 77,
   "metadata": {},
   "outputs": [
    {
     "data": {
      "text/plain": [
       "['p',\n",
       " 'y',\n",
       " 't',\n",
       " 'h',\n",
       " 'o',\n",
       " 'n',\n",
       " ' ',\n",
       " 'p',\n",
       " 'r',\n",
       " 'o',\n",
       " 'g',\n",
       " 'r',\n",
       " 'a',\n",
       " 'm',\n",
       " 'm',\n",
       " 'i',\n",
       " 'n',\n",
       " 'g']"
      ]
     },
     "execution_count": 77,
     "metadata": {},
     "output_type": "execute_result"
    }
   ],
   "source": [
    "[i for i in 'python programming']"
   ]
  },
  {
   "cell_type": "code",
   "execution_count": 78,
   "metadata": {},
   "outputs": [
    {
     "name": "stdout",
     "output_type": "stream",
     "text": [
      "['p', 'y', 't', 'h', 'o', 'n', ' ', 'p', 'r', 'o', 'g', 'r', 'a', 'm', 'm', 'i', 'n', 'g']\n"
     ]
    }
   ],
   "source": [
    "print([i for i in 'python programming'])"
   ]
  },
  {
   "cell_type": "code",
   "execution_count": 79,
   "metadata": {},
   "outputs": [
    {
     "data": {
      "text/plain": [
       "[0, 2, 4, 6, 8]"
      ]
     },
     "execution_count": 79,
     "metadata": {},
     "output_type": "execute_result"
    }
   ],
   "source": [
    "[i for i in range(10) if i%2 == 0]"
   ]
  },
  {
   "cell_type": "code",
   "execution_count": 80,
   "metadata": {},
   "outputs": [
    {
     "data": {
      "text/plain": [
       "[1, 3, 5, 7, 9]"
      ]
     },
     "execution_count": 80,
     "metadata": {},
     "output_type": "execute_result"
    }
   ],
   "source": [
    "[i for i in range(10) if i%2 != 0]"
   ]
  },
  {
   "cell_type": "code",
   "execution_count": 81,
   "metadata": {},
   "outputs": [
    {
     "data": {
      "text/plain": [
       "[1, 3, 5, 7, 9]"
      ]
     },
     "execution_count": 81,
     "metadata": {},
     "output_type": "execute_result"
    }
   ],
   "source": [
    "[i for i in range(10) if not i%2 == 0]"
   ]
  },
  {
   "cell_type": "code",
   "execution_count": 82,
   "metadata": {},
   "outputs": [
    {
     "data": {
      "text/plain": [
       "[[0, 0],\n",
       " [1, 1],\n",
       " [2, 4],\n",
       " [3, 9],\n",
       " [4, 16],\n",
       " [5, 25],\n",
       " [6, 36],\n",
       " [7, 49],\n",
       " [8, 64],\n",
       " [9, 81]]"
      ]
     },
     "execution_count": 82,
     "metadata": {},
     "output_type": "execute_result"
    }
   ],
   "source": [
    "[[i,i*i] for i in range(10)]"
   ]
  },
  {
   "cell_type": "code",
   "execution_count": 87,
   "metadata": {},
   "outputs": [
    {
     "data": {
      "text/plain": [
       "[[3, 4, 5], [4, 3, 5], [5, 12, 13], [6, 8, 10], [8, 6, 10], [12, 5, 13]]"
      ]
     },
     "execution_count": 87,
     "metadata": {},
     "output_type": "execute_result"
    }
   ],
   "source": [
    "[[x,y,z] for x in range(1,15) for y in range(1,15) for z in range(1,15) \n",
    " if ((x*x)+(y*y))==(z*z)]"
   ]
  },
  {
   "cell_type": "code",
   "execution_count": 88,
   "metadata": {},
   "outputs": [
    {
     "data": {
      "text/plain": [
       "{0: 0, 1: 1, 2: 4, 3: 9, 4: 16, 5: 25, 6: 36, 7: 49, 8: 64, 9: 81}"
      ]
     },
     "execution_count": 88,
     "metadata": {},
     "output_type": "execute_result"
    }
   ],
   "source": [
    "## Dictionary\n",
    "\n",
    "{key:key*key for key in range(10)}"
   ]
  },
  {
   "cell_type": "code",
   "execution_count": 90,
   "metadata": {},
   "outputs": [
    {
     "name": "stdout",
     "output_type": "stream",
     "text": [
      "{'m': 0, 'u': 0, 'r': 0, 'a': 0, 'i': 0}\n"
     ]
    }
   ],
   "source": [
    "# create dictionary of frequency\n",
    "name = 'murari'\n",
    "freq ={key: 0 for key in name} #creates empty dictionary\n",
    "print(freq)\n"
   ]
  },
  {
   "cell_type": "code",
   "execution_count": 92,
   "metadata": {},
   "outputs": [
    {
     "name": "stdout",
     "output_type": "stream",
     "text": [
      "{'m': 1, 'u': 1, 'r': 2, 'a': 1, 'i': 1}\n"
     ]
    }
   ],
   "source": [
    "name = 'murari'\n",
    "freq = {}\n",
    "print({key: name.count(key) for key in name})"
   ]
  },
  {
   "cell_type": "code",
   "execution_count": null,
   "metadata": {},
   "outputs": [],
   "source": []
  }
 ],
 "metadata": {
  "kernelspec": {
   "display_name": "Python 3",
   "language": "python",
   "name": "python3"
  },
  "language_info": {
   "codemirror_mode": {
    "name": "ipython",
    "version": 3
   },
   "file_extension": ".py",
   "mimetype": "text/x-python",
   "name": "python",
   "nbconvert_exporter": "python",
   "pygments_lexer": "ipython3",
   "version": "3.7.3"
  }
 },
 "nbformat": 4,
 "nbformat_minor": 2
}
