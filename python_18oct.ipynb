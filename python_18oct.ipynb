{
 "cells": [
  {
   "cell_type": "code",
   "execution_count": 7,
   "metadata": {},
   "outputs": [
    {
     "ename": "NameError",
     "evalue": "name 're' is not defined",
     "output_type": "error",
     "traceback": [
      "\u001b[1;31m---------------------------------------------------------------------------\u001b[0m",
      "\u001b[1;31mNameError\u001b[0m                                 Traceback (most recent call last)",
      "\u001b[1;32m<ipython-input-7-a53b7f905542>\u001b[0m in \u001b[0;36m<module>\u001b[1;34m\u001b[0m\n\u001b[1;32m----> 1\u001b[1;33m \u001b[0mre\u001b[0m\u001b[1;33m.\u001b[0m\u001b[0msearch\u001b[0m\u001b[1;33m(\u001b[0m\u001b[1;34m'a'\u001b[0m\u001b[1;33m,\u001b[0m\u001b[1;34m'rajesh'\u001b[0m\u001b[1;33m)\u001b[0m\u001b[1;33m\u001b[0m\u001b[1;33m\u001b[0m\u001b[0m\n\u001b[0m",
      "\u001b[1;31mNameError\u001b[0m: name 're' is not defined"
     ]
    }
   ],
   "source": [
    "re.search('a','rajesh')"
   ]
  },
  {
   "cell_type": "code",
   "execution_count": 8,
   "metadata": {},
   "outputs": [],
   "source": [
    "import re "
   ]
  },
  {
   "cell_type": "code",
   "execution_count": 9,
   "metadata": {},
   "outputs": [
    {
     "data": {
      "text/plain": [
       "<re.Match object; span=(1, 2), match='a'>"
      ]
     },
     "execution_count": 9,
     "metadata": {},
     "output_type": "execute_result"
    }
   ],
   "source": [
    "re.search('a','rajesh') # returns first occurances"
   ]
  },
  {
   "cell_type": "code",
   "execution_count": 10,
   "metadata": {},
   "outputs": [
    {
     "data": {
      "text/plain": [
       "<re.Match object; span=(0, 0), match=''>"
      ]
     },
     "execution_count": 10,
     "metadata": {},
     "output_type": "execute_result"
    }
   ],
   "source": [
    "re.search('a*','rajesh') # if first search is failure search stops and returns empty"
   ]
  },
  {
   "cell_type": "code",
   "execution_count": 13,
   "metadata": {},
   "outputs": [
    {
     "data": {
      "text/plain": [
       "<re.Match object; span=(0, 3), match='aaa'>"
      ]
     },
     "execution_count": 13,
     "metadata": {},
     "output_type": "execute_result"
    }
   ],
   "source": [
    "re.search('a*','aaarajeshaaaa') # returns all matching first occurances"
   ]
  },
  {
   "cell_type": "code",
   "execution_count": 15,
   "metadata": {},
   "outputs": [
    {
     "data": {
      "text/plain": [
       "<re.Match object; span=(0, 6), match='murari'>"
      ]
     },
     "execution_count": 15,
     "metadata": {},
     "output_type": "execute_result"
    }
   ],
   "source": [
    "name = 'murari'\n",
    "pattern = '^m.*i$'\n",
    "re.search(pattern,name)"
   ]
  },
  {
   "cell_type": "code",
   "execution_count": 19,
   "metadata": {},
   "outputs": [
    {
     "data": {
      "text/plain": [
       "<re.Match object; span=(0, 6), match='murari'>"
      ]
     },
     "execution_count": 19,
     "metadata": {},
     "output_type": "execute_result"
    }
   ],
   "source": [
    "name = 'murari'\n",
    "pattern = '^m.+i$' # + means one or more ; returns whole string since contains characters in between\n",
    "re.search(pattern,name)"
   ]
  },
  {
   "cell_type": "code",
   "execution_count": 20,
   "metadata": {},
   "outputs": [
    {
     "name": "stdout",
     "output_type": "stream",
     "text": [
      "None\n"
     ]
    }
   ],
   "source": [
    "name = 'mi'\n",
    "pattern = '^m.+i$'  # + means one or more ; returns none since no characters in between\n",
    "print(re.search(pattern,name))"
   ]
  },
  {
   "cell_type": "code",
   "execution_count": 49,
   "metadata": {},
   "outputs": [
    {
     "name": "stdout",
     "output_type": "stream",
     "text": [
      "9441222323\n",
      "is a valid mobile number\n",
      "1002038863\n",
      "is not valid mobile number\n",
      "9490662323\n",
      "is a valid mobile number\n"
     ]
    }
   ],
   "source": [
    "mobiles = ['9441222323','1002038863','9490662323']\n",
    "pattern = '^[9876]'  # Considers only first digit of the string\n",
    "for i in mobiles:\n",
    "    if re.search(pattern,i):\n",
    "        print(i)\n",
    "        print(\"is a valid mobile number\")\n",
    "    else:\n",
    "        print(i)\n",
    "        print(\"is not valid mobile number\")\n",
    "    "
   ]
  },
  {
   "cell_type": "code",
   "execution_count": 48,
   "metadata": {},
   "outputs": [
    {
     "name": "stdout",
     "output_type": "stream",
     "text": [
      "9441222323\n",
      "is a valid mobile number\n",
      "1002038863\n",
      "is not valid mobile number\n",
      "9490662323\n",
      "is a valid mobile number\n"
     ]
    }
   ],
   "source": [
    "mobiles = ['9441222323','1002038863','9490662323']\n",
    "pattern = '^[9876]\\d{9}$'   # Considers all 10 digits of the string\n",
    "for i in mobiles:\n",
    "    if re.search(pattern,i):\n",
    "        print(i)\n",
    "        print(\"is a valid mobile number\")\n",
    "    else:\n",
    "        print(i)\n",
    "        print(\"is not valid mobile number\")"
   ]
  },
  {
   "cell_type": "code",
   "execution_count": 53,
   "metadata": {},
   "outputs": [
    {
     "name": "stdout",
     "output_type": "stream",
     "text": [
      "9441222323\n",
      "is a valid mobile number\n",
      "6002038863\n",
      "is a valid mobile number\n",
      "7490662323\n",
      "is a valid mobile number\n"
     ]
    }
   ],
   "source": [
    "mobiles = ['9441222323','6002038863','7490662323']\n",
    "pattern = '^[6-9]\\d{9}$'   # Starting numbers in range Considers all 10 digits of the string\n",
    "                           # ^ - starting value\n",
    "                           # [ ] - search values\n",
    "                           # \\d - Any single digit\n",
    "                           # {} - {m,n} minimum m charecters and maximum n charecters\n",
    "                           # $ Endswith\n",
    "for i in mobiles:\n",
    "    if re.search(pattern,i):\n",
    "        print(i)\n",
    "        print(\"is a valid mobile number\")\n",
    "    else:\n",
    "        print(i)\n",
    "        print(\"is not valid mobile number\")"
   ]
  },
  {
   "cell_type": "code",
   "execution_count": null,
   "metadata": {},
   "outputs": [],
   "source": []
  }
 ],
 "metadata": {
  "kernelspec": {
   "display_name": "Python 3",
   "language": "python",
   "name": "python3"
  },
  "language_info": {
   "codemirror_mode": {
    "name": "ipython",
    "version": 3
   },
   "file_extension": ".py",
   "mimetype": "text/x-python",
   "name": "python",
   "nbconvert_exporter": "python",
   "pygments_lexer": "ipython3",
   "version": "3.7.3"
  }
 },
 "nbformat": 4,
 "nbformat_minor": 2
}
